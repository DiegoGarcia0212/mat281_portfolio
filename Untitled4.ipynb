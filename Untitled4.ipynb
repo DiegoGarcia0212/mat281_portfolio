{
 "cells": [
  {
   "cell_type": "code",
   "execution_count": 103,
   "metadata": {},
   "outputs": [
    {
     "name": "stdout",
     "output_type": "stream",
     "text": [
      "5554.852932275836 5573.08510256048 12\n"
     ]
    }
   ],
   "source": [
    "import pandas as pd\n",
    "import numpy as np\n",
    "import math \n",
    "import random\n",
    "\n",
    "def algoritmo_w(xi,yi,wi,n,x_0,y_0,d_0,Z_0,k):\n",
    "    tolerancia = 0.001\n",
    "    x_k = 0\n",
    "    x_b = 0\n",
    "    y_k = 0\n",
    "    for i in range(n):\n",
    "        x_k += wi[i]*xi[i]/d_0[i]\n",
    "        x_b += wi[i]/d_0[i]\n",
    "        y_k += wi[i]*yi[i]/d_0[i]\n",
    "    x_barra_k = x_k/x_b\n",
    "    y_barra_k = y_k/x_b\n",
    "    d_k = np.zeros(n)\n",
    "    for i in range(n):\n",
    "        d_k[i] = ((xi[i]-x_barra_k)**2+(yi[i]-x_barra_k)**2)**(1/2)\n",
    "    Z_k = np.inner(wi,d_k)\n",
    "    if abs(Z_0 - Z_k) < tolerancia or k > n:\n",
    "        print(x_k,y_k,k)\n",
    "    else:\n",
    "        algoritmo_w(xi,yi,wi,n,x_barra_k,y_barra_k,d_k,Z_k,k+1)\n",
    "        \n",
    "        \n",
    "n = 100\n",
    "xi = np.zeros(n+1)    \n",
    "for i in range(n+1):\n",
    "    xi[i] = i\n",
    "random.shuffle(xi)\n",
    "yi = np.zeros(n+1)\n",
    "for i in range(n+1):\n",
    "    yi[i] = i\n",
    "random.shuffle(yi)\n",
    "yi = yi[0:n]\n",
    "xi = xi[0:n]\n",
    "wi = np.random.uniform(n/10,n/2,n)\n",
    "# (x^(0),y^(0)), d_k^(0) y Z^(0)\n",
    "x_0 = np.inner(xi,wi)/sum(wi) \n",
    "y_0 = np.inner(yi,wi)/sum(wi)\n",
    "d_0 = np.zeros(n)\n",
    "for i in range(n):\n",
    "    d_0[i] = ((xi[i]-x_0)**2+(yi[i]-y_0)**2)**(1/2)\n",
    "Z_0 = np.inner(wi,d_0)\n",
    "algoritmo_w(xi,yi,wi,n,x_0,y_0,d_0,Z_0,1)"
   ]
  },
  {
   "cell_type": "code",
   "execution_count": null,
   "metadata": {},
   "outputs": [],
   "source": []
  }
 ],
 "metadata": {
  "kernelspec": {
   "display_name": "Python 3",
   "language": "python",
   "name": "python3"
  },
  "language_info": {
   "codemirror_mode": {
    "name": "ipython",
    "version": 3
   },
   "file_extension": ".py",
   "mimetype": "text/x-python",
   "name": "python",
   "nbconvert_exporter": "python",
   "pygments_lexer": "ipython3",
   "version": "3.7.6"
  }
 },
 "nbformat": 4,
 "nbformat_minor": 4
}
